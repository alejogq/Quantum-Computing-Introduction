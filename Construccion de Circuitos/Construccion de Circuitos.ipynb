{
 "cells": [
  {
   "cell_type": "code",
   "execution_count": 3,
   "metadata": {},
   "outputs": [],
   "source": [
    "from herramientas.librerias import *\n",
    "%config InlineBackend.figure_format = 'svg' # Makes the images look nice\n",
    "%matplotlib inline\n",
    "## Se configura la forma de visualizar los vectores con el uso latex y markdown\n",
    "latex_formatter = get_ipython().display_formatter.formatters[\"text/latex\"]\n",
    "latex_formatter.for_type(np.ndarray, lambda m: to_ltx(m, print_out=False))"
   ]
  },
  {
   "cell_type": "markdown",
   "metadata": {},
   "source": [
    "# Construcción de Bloques de circuitos"
   ]
  },
  {
   "cell_type": "code",
   "execution_count": 4,
   "metadata": {},
   "outputs": [],
   "source": [
    "def suma_bin(given_circuit,n): \n",
    "\n",
    "    given_circuit.cx(n,(n+1)) \n",
    "    given_circuit.cx(n,(n+2))\n",
    "    return given_circuit\n",
    "\n",
    "\n",
    "def U_c(): \n",
    "    \n",
    "    sums=QuantumCircuit(4,name=\"U_c\")\n",
    "    sums.ccx(1,2,3) \n",
    "    sums.cx(1,2)\n",
    "    sums.ccx(0,2,3)    \n",
    "    return sums\n",
    "\n",
    "\n",
    "def U_s(): \n",
    "    \n",
    "    sums=QuantumCircuit(3,name=\"U_s\")\n",
    "    sums.cx(1,2)\n",
    "    sums.cx(0,2) \n",
    "    return sums"
   ]
  },
  {
   "cell_type": "code",
   "execution_count": 5,
   "metadata": {},
   "outputs": [],
   "source": [
    "def sumador_bin(num_bits):\n",
    "    numb=num_bits\n",
    "    n=numb*3+2\n",
    "    b=QuantumCircuit(n)\n",
    "\n",
    "    for i in range(0,(n-4),3):\n",
    "        b.append(U_c(),b.qubits[i:(i+4)])  \n",
    "\n",
    "    b.cx(n-4,n-3)\n",
    "    ss=U_s()\n",
    "    b.append(ss,b.qubits[(n-5):(n-2)])  \n",
    "\n",
    "    for i in range((n-8),-3,-3):\n",
    "        b.append(U_c(),b.qubits[i:(i+4)])\n",
    "        b.append(U_s(),b.qubits[i:(i+3)]) \n",
    "    \n",
    "    return b\n",
    "\n",
    "h=sumador_bin(3)"
   ]
  },
  {
   "cell_type": "code",
   "execution_count": 7,
   "metadata": {},
   "outputs": [
    {
     "data": {
      "text/html": [
       "<pre style=\"word-wrap: normal;white-space: pre;background: #fff0;line-height: 1.1;font-family: &quot;Courier New&quot;,Courier,monospace\">      ┌──────┐                                             ┌──────┐┌──────┐\n",
       " q_0: ┤0     ├─────────────────────────────────────────────┤0     ├┤0     ├\n",
       "      │      │                                             │      ││      │\n",
       " q_1: ┤1     ├─────────────────────────────────────────────┤1     ├┤1 U_s ├\n",
       "      │  U_c │                                             │  U_c ││      │\n",
       " q_2: ┤2     ├─────────────────────────────────────────────┤2     ├┤2     ├\n",
       "      │      │┌──────┐                     ┌──────┐┌──────┐│      │└──────┘\n",
       " q_3: ┤3     ├┤0     ├─────────────────────┤0     ├┤0     ├┤3     ├────────\n",
       "      └──────┘│      │                     │      ││      │└──────┘        \n",
       " q_4: ────────┤1     ├─────────────────────┤1     ├┤1 U_s ├────────────────\n",
       "              │  U_c │                     │  U_c ││      │                \n",
       " q_5: ────────┤2     ├─────────────────────┤2     ├┤2     ├────────────────\n",
       "              │      │┌──────┐     ┌──────┐│      │└──────┘                \n",
       " q_6: ────────┤3     ├┤0     ├─────┤0     ├┤3     ├────────────────────────\n",
       "              └──────┘│      │     │      │└──────┘                        \n",
       " q_7: ────────────────┤1     ├──■──┤1 U_s ├────────────────────────────────\n",
       "                      │  U_c │┌─┴─┐│      │                                \n",
       " q_8: ────────────────┤2     ├┤ X ├┤2     ├────────────────────────────────\n",
       "                      │      │└───┘└──────┘                                \n",
       " q_9: ────────────────┤3     ├─────────────────────────────────────────────\n",
       "                      └──────┘                                             \n",
       "q_10: ─────────────────────────────────────────────────────────────────────\n",
       "                                                                           </pre>"
      ],
      "text/plain": [
       "      ┌──────┐                                             ┌──────┐┌──────┐\n",
       " q_0: ┤0     ├─────────────────────────────────────────────┤0     ├┤0     ├\n",
       "      │      │                                             │      ││      │\n",
       " q_1: ┤1     ├─────────────────────────────────────────────┤1     ├┤1 U_s ├\n",
       "      │  U_c │                                             │  U_c ││      │\n",
       " q_2: ┤2     ├─────────────────────────────────────────────┤2     ├┤2     ├\n",
       "      │      │┌──────┐                     ┌──────┐┌──────┐│      │└──────┘\n",
       " q_3: ┤3     ├┤0     ├─────────────────────┤0     ├┤0     ├┤3     ├────────\n",
       "      └──────┘│      │                     │      ││      │└──────┘        \n",
       " q_4: ────────┤1     ├─────────────────────┤1     ├┤1 U_s ├────────────────\n",
       "              │  U_c │                     │  U_c ││      │                \n",
       " q_5: ────────┤2     ├─────────────────────┤2     ├┤2     ├────────────────\n",
       "              │      │┌──────┐     ┌──────┐│      │└──────┘                \n",
       " q_6: ────────┤3     ├┤0     ├─────┤0     ├┤3     ├────────────────────────\n",
       "              └──────┘│      │     │      │└──────┘                        \n",
       " q_7: ────────────────┤1     ├──■──┤1 U_s ├────────────────────────────────\n",
       "                      │  U_c │┌─┴─┐│      │                                \n",
       " q_8: ────────────────┤2     ├┤ X ├┤2     ├────────────────────────────────\n",
       "                      │      │└───┘└──────┘                                \n",
       " q_9: ────────────────┤3     ├─────────────────────────────────────────────\n",
       "                      └──────┘                                             \n",
       "q_10: ─────────────────────────────────────────────────────────────────────\n",
       "                                                                           "
      ]
     },
     "execution_count": 7,
     "metadata": {},
     "output_type": "execute_result"
    }
   ],
   "source": [
    "h.draw()"
   ]
  },
  {
   "cell_type": "markdown",
   "metadata": {},
   "source": [
    "# Creación de circuitos por medio de Append"
   ]
  },
  {
   "cell_type": "code",
   "execution_count": 8,
   "metadata": {},
   "outputs": [],
   "source": [
    "a=QuantumCircuit(8)\n",
    "\n",
    "for i in range(0,6,3):\n",
    "    suma_bin(a,i) "
   ]
  },
  {
   "cell_type": "code",
   "execution_count": 10,
   "metadata": {},
   "outputs": [
    {
     "data": {
      "text/html": [
       "<pre style=\"word-wrap: normal;white-space: pre;background: #fff0;line-height: 1.1;font-family: &quot;Courier New&quot;,Courier,monospace\">               \n",
       "q_0: ──■────■──\n",
       "     ┌─┴─┐  │  \n",
       "q_1: ┤ X ├──┼──\n",
       "     └───┘┌─┴─┐\n",
       "q_2: ─────┤ X ├\n",
       "          └───┘\n",
       "q_3: ──■────■──\n",
       "     ┌─┴─┐  │  \n",
       "q_4: ┤ X ├──┼──\n",
       "     └───┘┌─┴─┐\n",
       "q_5: ─────┤ X ├\n",
       "          └───┘\n",
       "q_6: ──────────\n",
       "               \n",
       "q_7: ──────────\n",
       "               </pre>"
      ],
      "text/plain": [
       "               \n",
       "q_0: ──■────■──\n",
       "     ┌─┴─┐  │  \n",
       "q_1: ┤ X ├──┼──\n",
       "     └───┘┌─┴─┐\n",
       "q_2: ─────┤ X ├\n",
       "          └───┘\n",
       "q_3: ──■────■──\n",
       "     ┌─┴─┐  │  \n",
       "q_4: ┤ X ├──┼──\n",
       "     └───┘┌─┴─┐\n",
       "q_5: ─────┤ X ├\n",
       "          └───┘\n",
       "q_6: ──────────\n",
       "               \n",
       "q_7: ──────────\n",
       "               "
      ]
     },
     "execution_count": 10,
     "metadata": {},
     "output_type": "execute_result"
    }
   ],
   "source": [
    "sums=QuantumCircuit(3)\n",
    "sums.cx(0,1) \n",
    "sums.cx(0,2)\n",
    "\n",
    "b=QuantumCircuit(8)\n",
    "\n",
    "b.x(0)\n",
    "b.append(sums,b.qubits[1:4])  \n",
    "\n",
    "a.draw()"
   ]
  },
  {
   "cell_type": "markdown",
   "metadata": {},
   "source": [
    "# Creación de multiples entradas para evolucionar en el circuito"
   ]
  },
  {
   "cell_type": "code",
   "execution_count": 11,
   "metadata": {},
   "outputs": [],
   "source": [
    "from qiskit.quantum_info import Statevector\n",
    "from qiskit.quantum_info import state_fidelity"
   ]
  },
  {
   "cell_type": "code",
   "execution_count": 12,
   "metadata": {},
   "outputs": [
    {
     "name": "stdout",
     "output_type": "stream",
     "text": [
      "0\n",
      "{'00000000': 1000}\n",
      "1\n",
      "{'00000111': 1000}\n",
      "10\n",
      "{'00000010': 1000}\n",
      "11\n",
      "{'00000101': 1000}\n",
      "100\n",
      "{'00000100': 1000}\n",
      "101\n",
      "{'00000011': 1000}\n",
      "110\n",
      "{'00000110': 1000}\n",
      "111\n",
      "{'00000001': 1000}\n",
      "1000\n",
      "{'00111000': 1000}\n",
      "1001\n",
      "{'00111111': 1000}\n"
     ]
    }
   ],
   "source": [
    "sumador=a\n",
    "\n",
    "for i in range(10):\n",
    "    print(\"{0:b}\".format(i))\n",
    "    entrada = Statevector.from_int(i,dims=(2,2,2,2,2,2,2,2))\n",
    "    evolucion = entrada.evolve(sumador)\n",
    "    counts = evolucion.sample_counts(shots=1000)\n",
    "    print(counts)"
   ]
  },
  {
   "cell_type": "markdown",
   "metadata": {},
   "source": [
    "# Organizar una entrada con cadenas de bits"
   ]
  },
  {
   "cell_type": "code",
   "execution_count": 13,
   "metadata": {},
   "outputs": [],
   "source": [
    "# get bit representation of a number\n",
    "zero=0\n",
    "#weight_binary = '{0:b}'.format(int(weight)).rjust(self.num_sum_qubits, '0')[::-1]\n",
    "zero_binary = '{0:b}'.format(int(zero)).rjust(10, '0')[::-1]\n",
    "\n",
    "Numa=3\n",
    "Numb=4\n",
    "Num_binary_a = '{0:b}'.format(int(Numa))\n",
    "Num_binary_b = '{0:b}'.format(int(Numb))"
   ]
  },
  {
   "cell_type": "code",
   "execution_count": 15,
   "metadata": {},
   "outputs": [
    {
     "data": {
      "text/plain": [
       "'0010110'"
      ]
     },
     "execution_count": 15,
     "metadata": {},
     "output_type": "execute_result"
    }
   ],
   "source": [
    "a='0'\n",
    "for j, bit_a in enumerate(Num_binary_a):\n",
    "    if bit_a == '1':\n",
    "        a=\"1\"+a\n",
    "        bit_b = Num_binary_b[j]\n",
    "        if bit_b == '1':\n",
    "            a=\"1\"+a\n",
    "        else:\n",
    "            a=\"0\"+a\n",
    "    else:\n",
    "        a=\"0\"+a\n",
    "        bit_b = Num_binary_b[j]\n",
    "        if bit_b == '1':\n",
    "            a=\"1\"+a\n",
    "        else:\n",
    "            a=\"0\"+a\n",
    "    a=\"0\"+a\n",
    "\n",
    "a"
   ]
  },
  {
   "cell_type": "code",
   "execution_count": null,
   "metadata": {},
   "outputs": [],
   "source": []
  }
 ],
 "metadata": {
  "kernelspec": {
   "display_name": "Python 3",
   "language": "python",
   "name": "python3"
  },
  "language_info": {
   "codemirror_mode": {
    "name": "ipython",
    "version": 3
   },
   "file_extension": ".py",
   "mimetype": "text/x-python",
   "name": "python",
   "nbconvert_exporter": "python",
   "pygments_lexer": "ipython3",
   "version": "3.8.2"
  }
 },
 "nbformat": 4,
 "nbformat_minor": 4
}
