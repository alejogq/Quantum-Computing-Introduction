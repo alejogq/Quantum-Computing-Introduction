{
 "cells": [
  {
   "cell_type": "code",
   "execution_count": 1,
   "metadata": {},
   "outputs": [],
   "source": [
    "import numpy as np\n",
    "from IPython.display import display, Markdown, Latex\n",
    "from array_to_latex import to_ltx\n",
    "from herramientas.tools import random_state, vector2latex, unitary2latex2"
   ]
  },
  {
   "cell_type": "code",
   "execution_count": 2,
   "metadata": {},
   "outputs": [],
   "source": [
    "latex_formatter = get_ipython().display_formatter.formatters[\"text/latex\"]\n",
    "latex_formatter.for_type(np.ndarray, lambda m: to_ltx(m, print_out=False))"
   ]
  },
  {
   "cell_type": "code",
   "execution_count": 4,
   "metadata": {},
   "outputs": [
    {
     "data": {
      "text/latex": [
       "\\begin{bmatrix}\n",
       "  1.00 &  0.00 &  0.00\\\\\n",
       "  0.00 &  1.00 &  0.00\\\\\n",
       "  0.00 &  0.00 &  1.00\n",
       "\\end{bmatrix}"
      ],
      "text/plain": [
       "array([[1., 0., 0.],\n",
       "       [0., 1., 0.],\n",
       "       [0., 0., 1.]])"
      ]
     },
     "execution_count": 4,
     "metadata": {},
     "output_type": "execute_result"
    }
   ],
   "source": [
    "A= np.eye(3)\n",
    "A"
   ]
  },
  {
   "cell_type": "code",
   "execution_count": 4,
   "metadata": {},
   "outputs": [
    {
     "data": {
      "text/latex": [
       "\\begin{bmatrix}\n",
       "  1.00 + 1.00j &  0.00 + 0.00j &  0.00 + 0.00j\\\\\n",
       "  0.00 + 0.00j &  1.00 + 1.00j &  0.00 + 0.00j\\\\\n",
       "  0.00 + 0.00j &  0.00 + 0.00j &  1.00 + 1.00j\n",
       "\\end{bmatrix}"
      ],
      "text/plain": [
       "array([[1.+1.j, 0.+0.j, 0.+0.j],\n",
       "       [0.+0.j, 1.+1.j, 0.+0.j],\n",
       "       [0.+0.j, 0.+0.j, 1.+1.j]])"
      ]
     },
     "execution_count": 4,
     "metadata": {},
     "output_type": "execute_result"
    }
   ],
   "source": [
    "j=0+1j\n",
    "B=A+A*j\n",
    "B"
   ]
  },
  {
   "cell_type": "code",
   "execution_count": 5,
   "metadata": {},
   "outputs": [
    {
     "name": "stdout",
     "output_type": "stream",
     "text": [
      "$$\n",
      "\\begin{bmatrix}\n",
      "  1.00 &  0.00 &  0.00\\\\\n",
      "  0.00 &  1.00 &  0.00\\\\\n",
      "  0.00 &  0.00 &  1.00\n",
      "\\end{bmatrix}\n",
      "$$\n"
     ]
    }
   ],
   "source": [
    "from array_to_latex import to_ltx\n",
    "to_markdown = lambda m: f\"$$\\n{to_ltx(m, print_out=False)}\\n$$\"\n",
    "print(to_markdown(A))"
   ]
  },
  {
   "cell_type": "markdown",
   "metadata": {},
   "source": [
    "$$\n",
    "\\begin{bmatrix}\n",
    "  1.00 &  0.00 &  0.00\\\\\n",
    "  0.00 &  1.00 &  0.00\\\\\n",
    "  0.00 &  0.00 &  1.00\n",
    "\\end{bmatrix}\n",
    "$$\n"
   ]
  },
  {
   "cell_type": "code",
   "execution_count": 6,
   "metadata": {},
   "outputs": [],
   "source": [
    "a=np.array([1+2j,0+1j])"
   ]
  },
  {
   "cell_type": "code",
   "execution_count": 7,
   "metadata": {},
   "outputs": [
    {
     "data": {
      "text/latex": [
       "\\begin{bmatrix}\n",
       "  1.00 + 2.00j &  0.00 + 1.00j\n",
       "\\end{bmatrix}"
      ],
      "text/plain": [
       "array([1.+2.j, 0.+1.j])"
      ]
     },
     "execution_count": 7,
     "metadata": {},
     "output_type": "execute_result"
    }
   ],
   "source": [
    "a"
   ]
  },
  {
   "cell_type": "code",
   "execution_count": 8,
   "metadata": {},
   "outputs": [
    {
     "name": "stderr",
     "output_type": "stream",
     "text": [
      "/media/alejogq/DATA/QISKIT_ALEJO/INVESTIGACION/HERRAMIENTAS DE DISPLAY/herramientas/tools.py:11: ComplexWarning: Casting complex values to real discards the imaginary part\n",
      "  out_latex += str(int(np.round(amplitude))) + \" \\\\\\\\\\n\"\n"
     ]
    },
    {
     "data": {
      "text/markdown": [
       "\n",
       "$$ |\\psi\\rangle =\\begin{bmatrix}\n",
       "1 \\\\\n",
       "0\\end{bmatrix} $$"
      ],
      "text/plain": [
       "<IPython.core.display.Markdown object>"
      ]
     },
     "metadata": {},
     "output_type": "display_data"
    }
   ],
   "source": [
    "M_fin=vector2latex(a, pretext=\"|\\\\psi\\\\rangle =\")"
   ]
  },
  {
   "cell_type": "code",
   "execution_count": 9,
   "metadata": {},
   "outputs": [
    {
     "name": "stderr",
     "output_type": "stream",
     "text": [
      "/media/alejogq/DATA/QISKIT_ALEJO/INVESTIGACION/HERRAMIENTAS DE DISPLAY/herramientas/tools.py:50: ComplexWarning: Casting complex values to real discards the imaginary part\n",
      "  out_latex += str(int(np.round(amplitude))) +\"+\" +\"(\"+str(np.round(np.imag(amplitude),1))+\" j \"+\")\"+\" & \"\n"
     ]
    },
    {
     "data": {
      "text/markdown": [
       "\n",
       "$$ |\\psi\\rangle =\\begin{bmatrix}\n",
       "\t1+(1.0 j ) & 0+(0.0 j ) & 0+(0.0 j )  \\\\\n",
       "\t0+(0.0 j ) & 1+(1.0 j ) & 0+(0.0 j )  \\\\\n",
       "\t0+(0.0 j ) & 0+(0.0 j ) & 1+(1.0 j )  \\\\\n",
       "\\end{bmatrix} $$"
      ],
      "text/plain": [
       "<IPython.core.display.Markdown object>"
      ]
     },
     "metadata": {},
     "output_type": "display_data"
    }
   ],
   "source": [
    "M_fin=unitary2latex2(B, pretext=\"|\\\\psi\\\\rangle =\")"
   ]
  },
  {
   "cell_type": "markdown",
   "metadata": {},
   "source": [
    "To print a result from state vector simulation use the following in your code:m"
   ]
  },
  {
   "cell_type": "code",
   "execution_count": 19,
   "metadata": {},
   "outputs": [],
   "source": [
    "## To print a result from state vector simulation use teh following in your code:\n",
    "\n",
    "#ket = job.result().get_statevector()\n",
    "#for amplitude in ket:\n",
    "#    print(amplitude)"
   ]
  },
  {
   "cell_type": "code",
   "execution_count": null,
   "metadata": {},
   "outputs": [],
   "source": []
  }
 ],
 "metadata": {
  "kernelspec": {
   "display_name": "Python 3",
   "language": "python",
   "name": "python3"
  },
  "language_info": {
   "codemirror_mode": {
    "name": "ipython",
    "version": 3
   },
   "file_extension": ".py",
   "mimetype": "text/x-python",
   "name": "python",
   "nbconvert_exporter": "python",
   "pygments_lexer": "ipython3",
   "version": "3.7.3"
  }
 },
 "nbformat": 4,
 "nbformat_minor": 4
}
